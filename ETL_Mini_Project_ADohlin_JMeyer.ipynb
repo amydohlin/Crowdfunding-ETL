{
 "cells": [
  {
   "cell_type": "code",
   "execution_count": null,
   "metadata": {},
   "outputs": [],
   "source": [
    "# Import dependencies\n",
    "import pandas as pd\n",
    "import numpy as np\n",
    "pd.set_option('max_colwidth', 400)"
   ]
  },
  {
   "cell_type": "markdown",
   "metadata": {},
   "source": [
    "### Extract the crowdfunding.xlsx Data"
   ]
  },
  {
   "cell_type": "code",
   "execution_count": null,
   "metadata": {},
   "outputs": [],
   "source": [
    "# Read the data into a Pandas DataFrame\n",
    "crowdfunding_info_df = pd.read_excel('Resources\\crowdfunding.xlsx')\n",
    "crowdfunding_info_df.head()"
   ]
  },
  {
   "cell_type": "code",
   "execution_count": null,
   "metadata": {},
   "outputs": [],
   "source": [
    "# Get a brief summary of the crowdfunding_info DataFrame.\n",
    "crowdfunding_info_df.info()"
   ]
  },
  {
   "cell_type": "markdown",
   "metadata": {},
   "source": [
    "### Create the Category and Subcategory DataFrames\n",
    "---\n",
    "**Create a Category DataFrame that has the following columns:**\n",
    "- A \"category_id\" column that is numbered sequential form 1 to the length of the number of unique categories.\n",
    "- A \"category\" column that has only the categories.\n",
    "\n",
    "Export the DataFrame as a `category.csv` CSV file.\n",
    "\n",
    "**Create a SubCategory DataFrame that has the following columns:**\n",
    "- A \"subcategory_id\" column that is numbered sequential form 1 to the length of the number of unique subcategories.\n",
    "- A \"subcategory\" column that has only the subcategories. \n",
    "\n",
    "Export the DataFrame as a `subcategory.csv` CSV file."
   ]
  },
  {
   "cell_type": "code",
   "execution_count": null,
   "metadata": {},
   "outputs": [],
   "source": [
    "# Get the crowdfunding_info_df columns.\n",
    "crowdfunding_info_df.columns"
   ]
  },
  {
   "cell_type": "code",
   "execution_count": null,
   "metadata": {},
   "outputs": [],
   "source": [
    "# Assign the category and subcategory values to category and subcategory columns.\n",
    "\n",
    "crowdfunding_info_df[['category', 'subcategory']] = crowdfunding_info_df['category & sub-category'].str.split('/', n=1, expand=True)\n",
    "crowdfunding_info_df.head()"
   ]
  },
  {
   "cell_type": "code",
   "execution_count": null,
   "metadata": {},
   "outputs": [],
   "source": [
    "# Get the unique categories and subcategories in separate lists.\n",
    "categories = crowdfunding_info_df.category.unique()\n",
    "subcategories = crowdfunding_info_df.subcategory.unique()\n",
    "print(categories)\n",
    "print(subcategories)"
   ]
  },
  {
   "cell_type": "code",
   "execution_count": null,
   "metadata": {},
   "outputs": [],
   "source": [
    "# Get the number of distinct values in the categories and subcategories lists.\n",
    "print(len(categories))\n",
    "print(len(subcategories))"
   ]
  },
  {
   "cell_type": "code",
   "execution_count": null,
   "metadata": {},
   "outputs": [],
   "source": [
    "# Create numpy arrays from 1-9 for the categories and 1-24 for the subcategories.\n",
    "category_ids = np.arange(1, 10)\n",
    "subcategory_ids = np.arange(1, 25)\n",
    "\n",
    "print(category_ids)\n",
    "print(subcategory_ids)"
   ]
  },
  {
   "cell_type": "code",
   "execution_count": null,
   "metadata": {},
   "outputs": [],
   "source": [
    "# Use a list comprehension to add \"cat\" to each category_id. \n",
    "cat_ids = ['cat' + str(value) for value in category_ids]\n",
    "\n",
    "# Use a list comprehension to add \"subcat\" to each subcategory_id.    \n",
    "scat_ids = ['subcat' + str(value) for value in subcategory_ids]\n",
    "    \n",
    "print(cat_ids)\n",
    "print(scat_ids)"
   ]
  },
  {
   "cell_type": "code",
   "execution_count": null,
   "metadata": {},
   "outputs": [],
   "source": [
    "# Create a category DataFrame with the category_id array as the category_id and categories list as the category name.\n",
    "category_df = pd.DataFrame({'category_id': cat_ids, 'category': categories})\n",
    "\n",
    "# Create a category DataFrame with the subcategory_id array as the subcategory_id and subcategories list as the subcategory name. \n",
    "subcategory_df = pd.DataFrame({'subcategory_id': scat_ids, 'subcategory': subcategories})"
   ]
  },
  {
   "cell_type": "code",
   "execution_count": null,
   "metadata": {},
   "outputs": [],
   "source": [
    "category_df"
   ]
  },
  {
   "cell_type": "code",
   "execution_count": null,
   "metadata": {},
   "outputs": [],
   "source": [
    "subcategory_df"
   ]
  },
  {
   "cell_type": "code",
   "execution_count": null,
   "metadata": {},
   "outputs": [],
   "source": [
    "# Export categories_df and subcategories_df as CSV files.\n",
    "category_df.to_csv(\"Resources/category.csv\", index=False)\n",
    "\n",
    "subcategory_df.to_csv(\"Resources/subcategory.csv\", index=False)"
   ]
  },
  {
   "cell_type": "markdown",
   "metadata": {},
   "source": [
    "### Campaign DataFrame\n",
    "----\n",
    "**Create a Campaign DataFrame that has the following columns:**\n",
    "- The \"cf_id\" column.\n",
    "- The \"contact_id\" column.\n",
    "- The “company_name” column.\n",
    "- The \"blurb\" column is renamed as \"description.\"\n",
    "- The \"goal\" column.\n",
    "- The \"goal\" column is converted to a `float` datatype.\n",
    "- The \"pledged\" column is converted to a `float` datatype. \n",
    "- The \"backers_count\" column. \n",
    "- The \"country\" column.\n",
    "- The \"currency\" column.\n",
    "- The \"launched_at\" column is renamed as \"launch_date\" and converted to a datetime format. \n",
    "- The \"deadline\" column is renamed as \"end_date\" and converted to a datetime format.\n",
    "- The \"category_id\" with the unique number matching the “category_id” from the category DataFrame. \n",
    "- The \"subcategory_id\" with the unique number matching the “subcategory_id” from the subcategory DataFrame.\n",
    "- And, create a column that contains the unique four-digit contact ID number from the `contact.xlsx` file.\n",
    " \n",
    "\n",
    "Then export the DataFrame as a `campaign.csv` CSV file.\n"
   ]
  },
  {
   "cell_type": "code",
   "execution_count": null,
   "metadata": {},
   "outputs": [],
   "source": [
    "# Create a copy of the crowdfunding_info_df DataFrame name campaign_df. \n",
    "campaign_df = crowdfunding_info_df.copy()\n",
    "campaign_df.head()"
   ]
  },
  {
   "cell_type": "code",
   "execution_count": null,
   "metadata": {},
   "outputs": [],
   "source": [
    "# Rename the blurb, launched_at, and deadline columns.\n",
    "campaign_df = campaign_df.rename(columns={\"blurb\":\"description\", \"launched_at\":\"launch_date\",\"deadline\":\"end_date\"})\n",
    "campaign_df"
   ]
  },
  {
   "cell_type": "code",
   "execution_count": null,
   "metadata": {},
   "outputs": [],
<<<<<<< HEAD
   "source": [
    "# Convert the goal and pledged columns to a `float` data type.\n",
    "\n",
    "# Convert goal to float\n",
    "campaign_df['goal'] = campaign_df['goal'].astype(float)\n",
    "\n",
    "# Convert pledged to float\n",
    "campaign_df['pledged'] = campaign_df['pledged'].astype(float)\n"
   ]
  },
  {
   "cell_type": "code",
   "execution_count": null,
   "metadata": {},
   "outputs": [],
   "source": [
=======
   "source": [
    "# Convert the goal and pledged columns to a `float` data type.\n",
    "\n",
    "# convert goal to float\n",
    "campaign_df['goal'] = campaign_df['goal'].astype(float)\n",
    "\n",
    "# conver pledged to float\n",
    "campaign_df['pledged'] = campaign_df['pledged'].astype(float)\n"
   ]
  },
  {
   "cell_type": "code",
   "execution_count": 17,
   "metadata": {},
   "outputs": [
    {
     "name": "stdout",
     "output_type": "stream",
     "text": [
      "<class 'pandas.core.frame.DataFrame'>\n",
      "RangeIndex: 1000 entries, 0 to 999\n",
      "Data columns (total 17 columns):\n",
      " #   Column                   Non-Null Count  Dtype  \n",
      "---  ------                   --------------  -----  \n",
      " 0   cf_id                    1000 non-null   int64  \n",
      " 1   contact_id               1000 non-null   int64  \n",
      " 2   company_name             1000 non-null   object \n",
      " 3   description              1000 non-null   object \n",
      " 4   goal                     1000 non-null   float64\n",
      " 5   pledged                  1000 non-null   float64\n",
      " 6   outcome                  1000 non-null   object \n",
      " 7   backers_count            1000 non-null   int64  \n",
      " 8   country                  1000 non-null   object \n",
      " 9   currency                 1000 non-null   object \n",
      " 10  launch_date              1000 non-null   int64  \n",
      " 11  end_date                 1000 non-null   int64  \n",
      " 12  staff_pick               1000 non-null   bool   \n",
      " 13  spotlight                1000 non-null   bool   \n",
      " 14  category & sub-category  1000 non-null   object \n",
      " 15  category                 1000 non-null   object \n",
      " 16  subcategory              1000 non-null   object \n",
      "dtypes: bool(2), float64(2), int64(5), object(8)\n",
      "memory usage: 119.3+ KB\n"
     ]
    }
   ],
   "source": [
>>>>>>> 53612c929959897e1b732a7dd7a3725ef66085f8
    "# Check the datatypes\n",
    "campaign_df.info()"
   ]
  },
  {
   "cell_type": "code",
   "execution_count": null,
   "metadata": {},
   "outputs": [],
   "source": [
    "# Format the launched_date and end_date columns to datetime format\n",
    "from datetime import datetime as dt\n",
    "\n",
    "campaign_df['launch_date'] = pd.to_datetime(campaign_df['launch_date'], unit='s').dt.strftime('%Y-%m-%d')\n",
    "\n",
    "# Convert end_date to datetime\n",
    "campaign_df['end_date'] = pd.to_datetime(campaign_df['end_date'], unit='s').dt.strftime('%Y-%m-%d')\n",
    "\n",
    "campaign_df"
   ]
  },
  {
   "cell_type": "code",
   "execution_count": null,
   "metadata": {
    "scrolled": false
   },
   "outputs": [],
   "source": [
    "# Merge the campaign_df with the category_df on the \"category\" column and \n",
    "# the subcategory_df on the \"subcategory\" column.\n",
    "\n",
    "c_merge_df = pd.merge(campaign_df, category_df, on = 'category')\n",
    "campaign_merged_df = pd.merge(c_merge_df, subcategory_df, on = 'subcategory')\n",
    "campaign_merged_df.tail(10)"
   ]
  },
  {
   "cell_type": "code",
   "execution_count": null,
   "metadata": {},
<<<<<<< HEAD
   "outputs": [],
   "source": [
    "# Drop unwanted columns\n",
    "\n",
    "campaign_merged_df.drop(['category & sub-category','category','subcategory','staff_pick','spotlight'], axis = 1, inplace= True)\n",
=======
   "outputs": [
    {
     "data": {
      "text/html": [
       "<div>\n",
       "<style scoped>\n",
       "    .dataframe tbody tr th:only-of-type {\n",
       "        vertical-align: middle;\n",
       "    }\n",
       "\n",
       "    .dataframe tbody tr th {\n",
       "        vertical-align: top;\n",
       "    }\n",
       "\n",
       "    .dataframe thead th {\n",
       "        text-align: right;\n",
       "    }\n",
       "</style>\n",
       "<table border=\"1\" class=\"dataframe\">\n",
       "  <thead>\n",
       "    <tr style=\"text-align: right;\">\n",
       "      <th></th>\n",
       "      <th>cf_id</th>\n",
       "      <th>contact_id</th>\n",
       "      <th>company_name</th>\n",
       "      <th>description</th>\n",
       "      <th>goal</th>\n",
       "      <th>pledged</th>\n",
       "      <th>outcome</th>\n",
       "      <th>backers_count</th>\n",
       "      <th>country</th>\n",
       "      <th>currency</th>\n",
       "      <th>launch_date</th>\n",
       "      <th>end_date</th>\n",
       "      <th>category_id</th>\n",
       "      <th>subcategory_id</th>\n",
       "    </tr>\n",
       "  </thead>\n",
       "  <tbody>\n",
       "    <tr>\n",
       "      <th>0</th>\n",
       "      <td>147</td>\n",
       "      <td>4661</td>\n",
       "      <td>Baldwin, Riley and Jackson</td>\n",
       "      <td>Pre-emptive tertiary standardization</td>\n",
       "      <td>100.0</td>\n",
       "      <td>0.0</td>\n",
       "      <td>failed</td>\n",
       "      <td>0</td>\n",
       "      <td>CA</td>\n",
       "      <td>CAD</td>\n",
       "      <td>2020-02-13</td>\n",
       "      <td>2021-03-01</td>\n",
       "      <td>cat1</td>\n",
       "      <td>subcat1</td>\n",
       "    </tr>\n",
       "    <tr>\n",
       "      <th>1</th>\n",
       "      <td>1175</td>\n",
       "      <td>2288</td>\n",
       "      <td>Werner-Bryant</td>\n",
       "      <td>Virtual uniform frame</td>\n",
       "      <td>1800.0</td>\n",
       "      <td>7991.0</td>\n",
       "      <td>successful</td>\n",
       "      <td>222</td>\n",
       "      <td>US</td>\n",
       "      <td>USD</td>\n",
       "      <td>2020-06-20</td>\n",
       "      <td>2021-01-30</td>\n",
       "      <td>cat1</td>\n",
       "      <td>subcat1</td>\n",
       "    </tr>\n",
       "    <tr>\n",
       "      <th>2</th>\n",
       "      <td>873</td>\n",
       "      <td>2067</td>\n",
       "      <td>Stewart LLC</td>\n",
       "      <td>Cloned bi-directional architecture</td>\n",
       "      <td>1300.0</td>\n",
       "      <td>12047.0</td>\n",
       "      <td>successful</td>\n",
       "      <td>113</td>\n",
       "      <td>US</td>\n",
       "      <td>USD</td>\n",
       "      <td>2020-11-29</td>\n",
       "      <td>2021-06-11</td>\n",
       "      <td>cat1</td>\n",
       "      <td>subcat1</td>\n",
       "    </tr>\n",
       "    <tr>\n",
       "      <th>3</th>\n",
       "      <td>2568</td>\n",
       "      <td>5989</td>\n",
       "      <td>Castillo-Carey</td>\n",
       "      <td>Cross-platform solution-oriented process improvement</td>\n",
       "      <td>142400.0</td>\n",
       "      <td>21307.0</td>\n",
       "      <td>failed</td>\n",
       "      <td>296</td>\n",
       "      <td>US</td>\n",
       "      <td>USD</td>\n",
       "      <td>2020-05-05</td>\n",
       "      <td>2021-05-30</td>\n",
       "      <td>cat1</td>\n",
       "      <td>subcat1</td>\n",
       "    </tr>\n",
       "    <tr>\n",
       "      <th>4</th>\n",
       "      <td>1211</td>\n",
       "      <td>3307</td>\n",
       "      <td>Wright, Hartman and Yu</td>\n",
       "      <td>User-friendly tertiary array</td>\n",
       "      <td>3300.0</td>\n",
       "      <td>12437.0</td>\n",
       "      <td>successful</td>\n",
       "      <td>131</td>\n",
       "      <td>US</td>\n",
       "      <td>USD</td>\n",
       "      <td>2021-01-29</td>\n",
       "      <td>2021-02-13</td>\n",
       "      <td>cat1</td>\n",
       "      <td>subcat1</td>\n",
       "    </tr>\n",
       "    <tr>\n",
       "      <th>5</th>\n",
       "      <td>990</td>\n",
       "      <td>3489</td>\n",
       "      <td>Morgan-Martinez</td>\n",
       "      <td>Mandatory tertiary implementation</td>\n",
       "      <td>148500.0</td>\n",
       "      <td>4756.0</td>\n",
       "      <td>canceled</td>\n",
       "      <td>55</td>\n",
       "      <td>AU</td>\n",
       "      <td>AUD</td>\n",
       "      <td>2021-03-23</td>\n",
       "      <td>2021-12-06</td>\n",
       "      <td>cat1</td>\n",
       "      <td>subcat1</td>\n",
       "    </tr>\n",
       "    <tr>\n",
       "      <th>6</th>\n",
       "      <td>2228</td>\n",
       "      <td>4404</td>\n",
       "      <td>Alexander-Williams</td>\n",
       "      <td>Triple-buffered cohesive structure</td>\n",
       "      <td>7200.0</td>\n",
       "      <td>6927.0</td>\n",
       "      <td>failed</td>\n",
       "      <td>210</td>\n",
       "      <td>US</td>\n",
       "      <td>USD</td>\n",
       "      <td>2021-04-17</td>\n",
       "      <td>2021-07-08</td>\n",
       "      <td>cat1</td>\n",
       "      <td>subcat1</td>\n",
       "    </tr>\n",
       "    <tr>\n",
       "      <th>7</th>\n",
       "      <td>509</td>\n",
       "      <td>1867</td>\n",
       "      <td>Mcknight-Freeman</td>\n",
       "      <td>Upgradable scalable methodology</td>\n",
       "      <td>8300.0</td>\n",
       "      <td>6543.0</td>\n",
       "      <td>canceled</td>\n",
       "      <td>82</td>\n",
       "      <td>US</td>\n",
       "      <td>USD</td>\n",
       "      <td>2020-08-13</td>\n",
       "      <td>2021-04-22</td>\n",
       "      <td>cat1</td>\n",
       "      <td>subcat1</td>\n",
       "    </tr>\n",
       "    <tr>\n",
       "      <th>8</th>\n",
       "      <td>966</td>\n",
       "      <td>4840</td>\n",
       "      <td>Huff LLC</td>\n",
       "      <td>Face-to-face clear-thinking Local Area Network</td>\n",
       "      <td>121500.0</td>\n",
       "      <td>119830.0</td>\n",
       "      <td>failed</td>\n",
       "      <td>2179</td>\n",
       "      <td>US</td>\n",
       "      <td>USD</td>\n",
       "      <td>2021-04-10</td>\n",
       "      <td>2021-10-01</td>\n",
       "      <td>cat1</td>\n",
       "      <td>subcat1</td>\n",
       "    </tr>\n",
       "    <tr>\n",
       "      <th>9</th>\n",
       "      <td>2765</td>\n",
       "      <td>5565</td>\n",
       "      <td>Ho-Harris</td>\n",
       "      <td>Versatile cohesive encoding</td>\n",
       "      <td>7300.0</td>\n",
       "      <td>717.0</td>\n",
       "      <td>failed</td>\n",
       "      <td>10</td>\n",
       "      <td>US</td>\n",
       "      <td>USD</td>\n",
       "      <td>2020-12-01</td>\n",
       "      <td>2021-09-28</td>\n",
       "      <td>cat1</td>\n",
       "      <td>subcat1</td>\n",
       "    </tr>\n",
       "  </tbody>\n",
       "</table>\n",
       "</div>"
      ],
      "text/plain": [
       "   cf_id  contact_id                company_name  \\\n",
       "0    147        4661  Baldwin, Riley and Jackson   \n",
       "1   1175        2288               Werner-Bryant   \n",
       "2    873        2067                 Stewart LLC   \n",
       "3   2568        5989              Castillo-Carey   \n",
       "4   1211        3307      Wright, Hartman and Yu   \n",
       "5    990        3489             Morgan-Martinez   \n",
       "6   2228        4404          Alexander-Williams   \n",
       "7    509        1867            Mcknight-Freeman   \n",
       "8    966        4840                    Huff LLC   \n",
       "9   2765        5565                   Ho-Harris   \n",
       "\n",
       "                                            description      goal   pledged  \\\n",
       "0                  Pre-emptive tertiary standardization     100.0       0.0   \n",
       "1                                 Virtual uniform frame    1800.0    7991.0   \n",
       "2                    Cloned bi-directional architecture    1300.0   12047.0   \n",
       "3  Cross-platform solution-oriented process improvement  142400.0   21307.0   \n",
       "4                          User-friendly tertiary array    3300.0   12437.0   \n",
       "5                     Mandatory tertiary implementation  148500.0    4756.0   \n",
       "6                    Triple-buffered cohesive structure    7200.0    6927.0   \n",
       "7                       Upgradable scalable methodology    8300.0    6543.0   \n",
       "8        Face-to-face clear-thinking Local Area Network  121500.0  119830.0   \n",
       "9                           Versatile cohesive encoding    7300.0     717.0   \n",
       "\n",
       "      outcome  backers_count country currency launch_date    end_date  \\\n",
       "0      failed              0      CA      CAD  2020-02-13  2021-03-01   \n",
       "1  successful            222      US      USD  2020-06-20  2021-01-30   \n",
       "2  successful            113      US      USD  2020-11-29  2021-06-11   \n",
       "3      failed            296      US      USD  2020-05-05  2021-05-30   \n",
       "4  successful            131      US      USD  2021-01-29  2021-02-13   \n",
       "5    canceled             55      AU      AUD  2021-03-23  2021-12-06   \n",
       "6      failed            210      US      USD  2021-04-17  2021-07-08   \n",
       "7    canceled             82      US      USD  2020-08-13  2021-04-22   \n",
       "8      failed           2179      US      USD  2021-04-10  2021-10-01   \n",
       "9      failed             10      US      USD  2020-12-01  2021-09-28   \n",
       "\n",
       "  category_id subcategory_id  \n",
       "0        cat1        subcat1  \n",
       "1        cat1        subcat1  \n",
       "2        cat1        subcat1  \n",
       "3        cat1        subcat1  \n",
       "4        cat1        subcat1  \n",
       "5        cat1        subcat1  \n",
       "6        cat1        subcat1  \n",
       "7        cat1        subcat1  \n",
       "8        cat1        subcat1  \n",
       "9        cat1        subcat1  "
      ]
     },
     "execution_count": 20,
     "metadata": {},
     "output_type": "execute_result"
    }
   ],
   "source": [
    "# Drop unwanted columns\n",
    "\n",
    "# use .drop(), put the columns in a list [], axis = 1, inplace = True\n",
    "# axis = 1 means drop column(s), axis = 0 would drop row(s)\n",
    "# inplace = True will modify the df as is, False would create a new df with specified columns dropped\n",
    "campaign_merged_df.drop(['category & sub-category','category','subcategory','spotlight','staff_pick'], axis = 1, inplace= True)\n",
>>>>>>> 53612c929959897e1b732a7dd7a3725ef66085f8
    "campaign_merged_df.head(10)"
   ]
  },
  {
   "cell_type": "code",
   "execution_count": null,
   "metadata": {},
   "outputs": [],
   "source": [
    "# Export the DataFrame as a CSV file. \n",
    "\n",
    "campaign_merged_df.to_csv(\"Resources/campaign.csv\", index=False)"
   ]
  },
  {
   "cell_type": "markdown",
   "metadata": {},
   "source": [
    "### Extract the contacts.xlsx Data."
   ]
  },
  {
   "cell_type": "code",
   "execution_count": null,
   "metadata": {},
   "outputs": [],
   "source": [
    "# Read the data into a Pandas DataFrame. Use the `header=2` parameter when reading in the data.\n",
    "contact_info_df = pd.read_excel('Resources/contacts.xlsx', header=3)\n",
    "contact_info_df.head()"
   ]
  },
  {
   "cell_type": "markdown",
   "metadata": {},
   "source": [
    "### Create the Contacts DataFrame \n",
    "---\n",
    "**Create a Contacts DataFrame that has the following columns:**\n",
    "- A column named \"contact_id\"  that contains the unique number of the contact person.\n",
    "- A column named \"first_name\" that contains the first name of the contact person.\n",
    "- A column named \"last_name\" that contains the first name of the contact person.\n",
    "- A column named \"email\" that contains the email address of the contact person\n",
    "\n",
    "Then export the DataFrame as a `contacts.csv` CSV file."
   ]
  },
  {
   "cell_type": "markdown",
   "metadata": {},
   "source": [
    "### Option 1: Use Pandas to create the contacts DataFrame."
   ]
  },
  {
   "cell_type": "code",
   "execution_count": null,
   "metadata": {},
   "outputs": [],
   "source": [
    "# Iterate through the contact_info_df and convert each row to a dictionary.\n",
    "import json\n",
    "dict_values = []\n",
    "\n",
    "# Create 2 empty lists for keys and values\n",
    "values = []\n",
    "col_names = []\n",
    "\n",
    "# Iterate through df with iterrows\n",
    "for i, row in contact_info_df.iterrows():\n",
    "    data = row[0]\n",
    "\n",
    "    # Convert each row to a Python dictionary\n",
    "    converted_data = json.loads(data)\n",
    "\n",
    "    # Use list comprehension to get the keys from the converted data\n",
    "    cols = [k for k,v in converted_data.items()]\n",
    "\n",
    "    # Use list comprehension to get the values for each row\n",
    "    dict_values = [v for k,v in converted_data.items()]\n",
    "\n",
    "    # Append the keys and list values to the lists created for values and col_names\n",
    "    col_names.append(cols)\n",
    "    values.append(dict_values)\n",
    "\n",
    "\n",
    "# Print out the list of values for each row.\n",
    "print(col_names[0])\n",
    "print()\n",
    "print(values)"
   ]
  },
  {
   "cell_type": "code",
   "execution_count": null,
   "metadata": {},
   "outputs": [],
   "source": [
    "# Create a contact_info DataFrame and add each list of values, i.e., each row \n",
    "# to the 'contact_id', 'name', 'email' columns.\n",
    "\n",
    "new_contact_df = pd.DataFrame(values, columns=col_names[0])\n",
    "new_contact_df.head()"
   ]
  },
  {
   "cell_type": "code",
   "execution_count": null,
   "metadata": {},
   "outputs": [],
   "source": [
    "# Check the datatypes.\n",
    "new_contact_df.info()"
   ]
  },
  {
   "cell_type": "code",
   "execution_count": null,
   "metadata": {},
   "outputs": [],
   "source": [
    "# Create a \"first\"name\" and \"last_name\" column with the first and last names from the \"name\" column. \n",
    "\n",
    "# Extract the first names\n",
    "new_contact_df['first_name'] = new_contact_df['name'].str.extract('(\\w+)(?:\\s)')\n",
    "\n",
    "# Extract the last names\n",
    "new_contact_df['last_name'] = new_contact_df['name'].str.extract('(?:\\s)(\\w+)')\n",
    "\n",
    "# Drop the contact_name column\n",
    "new_contact_df.drop(['name'], axis=1)\n"
   ]
  },
  {
   "cell_type": "code",
   "execution_count": null,
   "metadata": {},
   "outputs": [],
   "source": [
    "# Reorder the columns\n",
    "new_contact_df = new_contact_df[['contact_id','first_name','last_name','email']]\n",
    "\n",
    "new_contact_df"
   ]
  },
  {
   "cell_type": "code",
   "execution_count": null,
   "metadata": {},
   "outputs": [],
   "source": [
    "# Check the datatypes one more time before exporting as CSV file.\n",
    "\n",
    "new_contact_df.info()\n"
   ]
  },
  {
   "cell_type": "code",
   "execution_count": null,
   "metadata": {},
   "outputs": [],
   "source": [
    "# Export the DataFrame as a CSV file. \n",
    "new_contact_df.to_csv(\"Resources\\contacts.csv\", encoding='utf8', index=False)"
   ]
  }
 ],
 "metadata": {
  "kernelspec": {
   "display_name": "Python 3 (ipykernel)",
   "language": "python",
   "name": "python3"
  },
  "language_info": {
   "codemirror_mode": {
    "name": "ipython",
    "version": 3
   },
   "file_extension": ".py",
   "mimetype": "text/x-python",
   "name": "python",
   "nbconvert_exporter": "python",
   "pygments_lexer": "ipython3",
   "version": "3.10.13"
  }
 },
 "nbformat": 4,
 "nbformat_minor": 4
}
